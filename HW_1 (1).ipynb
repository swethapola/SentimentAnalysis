{
  "nbformat": 4,
  "nbformat_minor": 0,
  "metadata": {
    "colab": {
      "name": "HW_1.ipynb",
      "provenance": [],
      "collapsed_sections": []
    },
    "kernelspec": {
      "name": "python3",
      "display_name": "Python 3"
    }
  },
  "cells": [
    {
      "cell_type": "markdown",
      "metadata": {
        "id": "cBbMFv0Z5nKM",
        "colab_type": "text"
      },
      "source": [
        ""
      ]
    },
    {
      "cell_type": "code",
      "metadata": {
        "id": "bymVftHXImRa",
        "colab_type": "code",
        "colab": {}
      },
      "source": [
        "import sys, argparse\n",
        "from scipy import sparse\n",
        "from sklearn import linear_model\n",
        "from collections import Counter\n",
        "import numpy as np\n",
        "import re\n",
        "from collections import Counter\n",
        "from collections import defaultdict"
      ],
      "execution_count": 0,
      "outputs": []
    },
    {
      "cell_type": "code",
      "metadata": {
        "id": "KYRARhMtI7AR",
        "colab_type": "code",
        "colab": {}
      },
      "source": [
        "######################################################################\n",
        "## This defines the dumb features the model starts with.\n",
        "######################################################################\n",
        "\n",
        "def dumb_featurize(text):\n",
        "\tfeats = {}\n",
        "\twords = text.split(\" \")\n",
        "\n",
        "\tfor word in words:\n",
        "\t\tif word == \"love\" or word == \"like\" or word == \"best\":\n",
        "\t\t\tfeats[\"contains_positive_word\"] = 1\n",
        "\t\tif word == \"hate\" or word == \"dislike\" or word == \"worst\" or word == \"awful\":\n",
        "\t\t\tfeats[\"contains_negative_word\"] = 1\n",
        "\n",
        "\treturn feats\n",
        "\n"
      ],
      "execution_count": 0,
      "outputs": []
    },
    {
      "cell_type": "code",
      "metadata": {
        "id": "CGiM8qQiJOBU",
        "colab_type": "code",
        "colab": {}
      },
      "source": [
        "######################################################################\n",
        "## This defines the sentiment classification class which\n",
        "## loads the data and sets up the model.\n",
        "######################################################################\n",
        "\n",
        "class SentimentClassifier:\n",
        "\n",
        "\tdef __init__(self, feature_method):\n",
        "\t\tself.feature_vocab = {}\n",
        "\t\tself.feature_method = feature_method\n",
        "\n",
        "\n",
        "\t# Read data from file\n",
        "\tdef load_data(self, filename):\n",
        "\t\tdata = []\n",
        "\t\twith open(filename, encoding=\"utf8\") as file:\n",
        "\t\t\tfor line in file:\n",
        "\t\t\t\tcols = line.split(\"\\t\")\n",
        "\t\t\t\tlabel = cols[0]\n",
        "\t\t\t\ttext = cols[1].rstrip()\n",
        "\n",
        "\t\t\t\tdata.append((label, text))\n",
        "\t\treturn data\n",
        "\n",
        "\t# Featurize entire dataset\n",
        "\tdef featurize(self, data):\n",
        "\t\tfeaturized_data = []\n",
        "\t\tfor label, text in data:\n",
        "\t\t\tfeats = self.feature_method(text)\n",
        "\t\t\tfeaturized_data.append((label, feats))\n",
        "\t\treturn featurized_data\n",
        "\n",
        "\t# Read dataset and returned featurized representation as sparse matrix + label array\n",
        "\tdef process(self, dataFile, training = False):\n",
        "\t\tdata = self.load_data(dataFile)\n",
        "\t\tdata = self.featurize(data)\n",
        "\n",
        "\t\tif training:\t\t\t\n",
        "\t\t\tfid = 0\n",
        "\t\t\tfeature_doc_count = Counter()\n",
        "\t\t\tfor label, feats in data:\n",
        "\t\t\t\tfor feat in feats:\n",
        "\t\t\t\t\tfeature_doc_count[feat]+= 1\n",
        "\n",
        "\t\t\tfor feat in feature_doc_count:\n",
        "\t\t\t\tif feature_doc_count[feat] >= MIN_FEATURE_COUNT[self.feature_method.__name__]:\n",
        "\t\t\t\t\tself.feature_vocab[feat] = fid\n",
        "\t\t\t\t\tfid += 1\n",
        "\n",
        "\t\tF = len(self.feature_vocab)\n",
        "\t\tD = len(data)\n",
        "\t\tX = sparse.dok_matrix((D, F))\n",
        "\t\tY = np.zeros(D)\n",
        "\t\tfor idx, (label, feats) in enumerate(data):\n",
        "\t\t\tfor feat in feats:\n",
        "\t\t\t\tif feat in self.feature_vocab:\n",
        "\t\t\t\t\tX[idx, self.feature_vocab[feat]] = feats[feat]\n",
        "\t\t\tY[idx] = 1 if label == \"pos\" else 0\n",
        "\n",
        "\t\treturn X, Y\n",
        "\n",
        "\tdef load_test(self, dataFile):\n",
        "\t\tdata = self.load_data(dataFile)\n",
        "\t\tdata = self.featurize(data)\n",
        "\n",
        "\t\tF = len(self.feature_vocab)\n",
        "\t\tD = len(data)\n",
        "\t\tX = sparse.dok_matrix((D, F))\n",
        "\t\tY = np.zeros(D, dtype = int)\n",
        "\t\tfor idx, (data_id, feats) in enumerate(data):\n",
        "\t\t\t# print (data_id)\n",
        "\t\t\tfor feat in feats:\n",
        "\t\t\t\tif feat in self.feature_vocab:\n",
        "\t\t\t\t\tX[idx, self.feature_vocab[feat]] = feats[feat]\n",
        "\t\t\tY[idx] = data_id\n",
        "\n",
        "\t\treturn X, Y\n",
        "\n",
        "\t# Train model and evaluate on held-out data\n",
        "\tdef evaluate(self, trainX, trainY, devX, devY):\n",
        "\t\t(D,F) = trainX.shape\n",
        "\t\tself.log_reg = linear_model.LogisticRegression(C = L2_REGULARIZATION_STRENGTH[self.feature_method.__name__])\t\n",
        "\t\tself.log_reg.fit(trainX, trainY)\n",
        "\t\ttraining_accuracy = self.log_reg.score(trainX, trainY)\n",
        "\t\tdevelopment_accuracy = self.log_reg.score(devX, devY)\n",
        "\t\tprint(\"Method: %s, Features: %s, Train accuracy: %.3f, Dev accuracy: %.3f\" % (self.feature_method.__name__, F, training_accuracy, development_accuracy))\n",
        "\t\t\n",
        "\n",
        "\t# Predict labels for new data\n",
        "\tdef predict(self, testX, idsX):\n",
        "\t\tpredX = self.log_reg.predict(testX)\n",
        "\n",
        "\t\tout = open(\"%s_%s\" % (self.feature_method.__name__, \"predictions.csv\"), \"w\", encoding=\"utf8\")\n",
        "\t\tout.write(\"Id,Expected\\n\")\n",
        "\t\tfor idx, data_id in enumerate(testX):\n",
        "\t\t\tout.write(\"%s,%s\\n\" % (idsX[idx], int(predX[idx])))\n",
        "\t\tout.close()\n",
        "\n",
        "\t# Write learned parameters to file\n",
        "\tdef printWeights(self):\n",
        "\t\tout = open(\"%s_%s\" % (self.feature_method.__name__, \"weights.txt\"), \"w\", encoding=\"utf8\")\n",
        "\t\treverseVocab = [None]*len(self.feature_vocab)\n",
        "\t\tfor feat in self.feature_vocab:\n",
        "\t\t\treverseVocab[self.feature_vocab[feat]] = feat\n",
        "\n",
        "\t\tout.write(\"%.5f\\t__BIAS__\\n\" % self.log_reg.intercept_)\n",
        "\t\tfor (weight, feat) in sorted(zip(self.log_reg.coef_[0], reverseVocab)):\n",
        "\t\t\tout.write(\"%.5f\\t%s\\n\" % (weight, feat))\n",
        "\t\tout.close()\n",
        "\n"
      ],
      "execution_count": 0,
      "outputs": []
    },
    {
      "cell_type": "code",
      "metadata": {
        "id": "Jnqjxd6fKPiP",
        "colab_type": "code",
        "colab": {}
      },
      "source": [
        "\n",
        "\n",
        "# regularization strength to control overfitting (values closer to 0  = stronger regularization)\n",
        "L2_REGULARIZATION_STRENGTH = {\"dumb_featurize\": 1, \"fancy_featurize\": .15}\n",
        "\n",
        "# must observe feature at least this many times in training data to include in model\n",
        "MIN_FEATURE_COUNT = {\"dumb_featurize\": 10,  \"fancy_featurize\": 6 }"
      ],
      "execution_count": 0,
      "outputs": []
    },
    {
      "cell_type": "code",
      "metadata": {
        "id": "cPMvbYbBvI5K",
        "colab_type": "code",
        "colab": {}
      },
      "source": [
        "#SENTIMENT DICT\n",
        "f = open(\"positive-words.txt\",\"r\")\n",
        "g = open(\"negative-words.txt\",\"r\")\n",
        "positive = f.read().split('\\n')\n",
        "negative = g.read().split('\\n')"
      ],
      "execution_count": 0,
      "outputs": []
    },
    {
      "cell_type": "code",
      "metadata": {
        "id": "fyYrtV4C-qY9",
        "colab_type": "code",
        "colab": {}
      },
      "source": [
        "#STOPWORDS\n",
        "my_stopwords = ['hers', 'between', 'yourself', 'but', 'again', \n",
        "                'there', 'about', 'once', 'out', 'very', 'having', \n",
        "                'with', 'they', 'own', 'an', 'be', 'some', 'for', 'do', 'its', \n",
        "                'yours', 'such', 'into', 'of', 'most', 'itself', 'other', 'off', \n",
        "                'is', 's', 'am', 'or', 'who', 'as', 'from', 'him', 'each', 'the', \n",
        "                'themselves', 'until', 'below', 'are', 'we', 'these', 'your', 'his', \n",
        "                'through', 'nor', 'me', 'were', 'her', 'more', 'himself', 'this', \n",
        "                'down', 'should', 'our', 'their', 'while', 'above', 'both', 'up', 'to', \n",
        "                'ours', 'had', 'she', 'all', 'no', 'when', 'at', 'any', 'before', 'them', \n",
        "                'same', 'and', 'been', 'have', 'in', 'will', 'on', 'does', 'yourselves', \n",
        "                'then', 'that', 'because', 'what', 'over', 'why', 'so', 'can', 'did', 'not', \n",
        "                'now', 'under', 'he', 'you', 'herself', 'has', 'just', 'where', 'too', 'only', \n",
        "                'myself', 'which', 'those', 'i', 'after', 'few', 'whom', 't', 'being', 'if', \n",
        "                'theirs', 'my', 'against', 'a', 'by', 'doing', 'it', 'how', 'further', 'was', \n",
        "                'here', 'than', 'one']\n",
        "\n",
        "def remove_stopwords(text):\n",
        "    new_text = ''\n",
        "    split = text.split()\n",
        "    for word in split:\n",
        "        if word not in my_stopwords:\n",
        "            new_text += word + ' '\n",
        "    return new_text"
      ],
      "execution_count": 0,
      "outputs": []
    },
    {
      "cell_type": "code",
      "metadata": {
        "id": "_7McXWpiVPz4",
        "colab_type": "code",
        "colab": {}
      },
      "source": [
        "def special(text):\n",
        "    count = len(re.sub('[\\w]+', '', text))\n",
        "    return count"
      ],
      "execution_count": 0,
      "outputs": []
    },
    {
      "cell_type": "code",
      "metadata": {
        "id": "uwTDV8m1VR7T",
        "colab_type": "code",
        "colab": {}
      },
      "source": [
        "def remove_punctuation(text):\n",
        "  text = re.sub('[^\\w]+', ' ', text)\n",
        "  return text"
      ],
      "execution_count": 0,
      "outputs": []
    },
    {
      "cell_type": "code",
      "metadata": {
        "id": "xKLLIWwKPvqP",
        "colab_type": "code",
        "colab": {}
      },
      "source": [
        "def bigrams(text):\n",
        "  word_list = text.split(\" \")\n",
        "  bigram_list = []\n",
        "  for i in range(len(word_list)-1):\n",
        "    bigram_list.append((word_list[i], word_list[i+1]))\n",
        "  return bigram_list"
      ],
      "execution_count": 0,
      "outputs": []
    },
    {
      "cell_type": "code",
      "metadata": {
        "id": "_LtsGuL_Z43S",
        "colab_type": "code",
        "colab": {}
      },
      "source": [
        "def sent_length(text):\n",
        "  sentences = re.split('\\.|\\?|\\!', text)\n",
        "  length = 0\n",
        "  for s in sentences:\n",
        "    length += len(s.split(\" \"))\n",
        "  return length/len(sentences)"
      ],
      "execution_count": 0,
      "outputs": []
    },
    {
      "cell_type": "code",
      "metadata": {
        "id": "NQTFazIfyMIT",
        "colab_type": "code",
        "colab": {}
      },
      "source": [
        "def sent_density(sent, bag):\n",
        "  #params: sent = pos or neg dictionary and bag of words = BOW singular review\n",
        "  #returns: density of pos or neg words \n",
        "  similarities = set(sent).intersection(set(bag.keys()))\n",
        "  return len(similarities)/len(bag.keys())"
      ],
      "execution_count": 0,
      "outputs": []
    },
    {
      "cell_type": "code",
      "metadata": {
        "id": "biOLDfROXOiU",
        "colab_type": "code",
        "colab": {}
      },
      "source": [
        "def review_length(text):\n",
        "  sentences = re.split('\\.|\\?|\\!', text)\n",
        "  return len(sentences)"
      ],
      "execution_count": 0,
      "outputs": []
    },
    {
      "cell_type": "code",
      "metadata": {
        "id": "vx-UFBYfgor7",
        "colab_type": "code",
        "colab": {}
      },
      "source": [
        "def word_count(text):\n",
        "  return len(text.split(\" \"))"
      ],
      "execution_count": 0,
      "outputs": []
    },
    {
      "cell_type": "code",
      "metadata": {
        "id": "ARZzabuii_-w",
        "colab_type": "code",
        "colab": {}
      },
      "source": [
        "def word_length(text):\n",
        "  words = text.split(\" \")\n",
        "  average = sum(len(word) for word in words) / len(words)\n",
        "  return average"
      ],
      "execution_count": 0,
      "outputs": []
    },
    {
      "cell_type": "code",
      "metadata": {
        "id": "jxKmEqI5JY71",
        "colab_type": "code",
        "colab": {}
      },
      "source": [
        "def fancy_featurize(text):\n",
        "  features = {}\n",
        "  \n",
        "  #cleaning data\n",
        "  text = text.lower()\n",
        "  text = remove_stopwords(text)\n",
        "  text = remove_punctuation(text)\n",
        "  #features['sent_length'] = sent_length(text) #feature 1\n",
        "  #features['rev_length'] = review_length(text) #feature 1\n",
        "  #features['word_count'] = word_count(text) #feature 1\n",
        "  features['word_length'] = word_length(text) #feature 1\n",
        "  \n",
        "  bag_unigram = bag_of_words(text)\n",
        "  bag_bigram = bag_of_words_bigram(bigrams(text))\n",
        "  features.update(bag_unigram)\n",
        "  features.update(bag_bigram) #feature 2\n",
        "  features['pos'] = sent_density(positive, bag_unigram) #feature 3\n",
        "  features['neg'] = sent_density(negative, bag_unigram) #feature 3\n",
        "  return features"
      ],
      "execution_count": 0,
      "outputs": []
    },
    {
      "cell_type": "code",
      "metadata": {
        "id": "h37i02zP89zG",
        "colab_type": "code",
        "colab": {}
      },
      "source": [
        "# Adds the bag of words representation of the text to feats\n",
        "def bag_of_words(text):\n",
        "  #params: text = string\n",
        "  word_bag = dict(Counter(text.split(\" \")))\n",
        "  return word_bag"
      ],
      "execution_count": 0,
      "outputs": []
    },
    {
      "cell_type": "code",
      "metadata": {
        "id": "UDr4xZw1JbuZ",
        "colab_type": "code",
        "colab": {}
      },
      "source": [
        "# Adds the bag of words representation of the text to feats\n",
        "def bag_of_words_bigram(text):\n",
        "  #params: text = list of strings or list of tuples\n",
        "  counter = dict(Counter(text))\n",
        "  word_bag = {}\n",
        "  for i in text:\n",
        "    word_bag[str(i)] = counter[i]\n",
        "  return word_bag"
      ],
      "execution_count": 0,
      "outputs": []
    },
    {
      "cell_type": "code",
      "metadata": {
        "id": "pT7xD4k2QiCH",
        "colab_type": "code",
        "outputId": "f5694f94-7df6-4245-c0c3-b930cd760018",
        "colab": {
          "base_uri": "https://localhost:8080/",
          "height": 683
        }
      },
      "source": [
        "#This code gets the train/dev/test files from github and imports them into Colab\n",
        "!wget https://raw.githubusercontent.com/dbamman/nlp20/master/HW_1/train.txt\n",
        "!wget https://raw.githubusercontent.com/dbamman/nlp20/master/HW_1/dev.txt\n",
        "!wget https://raw.githubusercontent.com/dbamman/nlp20/master/HW_1/test.txt.zip\n",
        "!unzip test.txt.zip"
      ],
      "execution_count": 0,
      "outputs": [
        {
          "output_type": "stream",
          "text": [
            "--2020-02-05 22:52:10--  https://raw.githubusercontent.com/dbamman/nlp20/master/HW_1/train.txt\n",
            "Resolving raw.githubusercontent.com (raw.githubusercontent.com)... 151.101.0.133, 151.101.64.133, 151.101.128.133, ...\n",
            "Connecting to raw.githubusercontent.com (raw.githubusercontent.com)|151.101.0.133|:443... connected.\n",
            "HTTP request sent, awaiting response... 200 OK\n",
            "Length: 1427184 (1.4M) [text/plain]\n",
            "Saving to: ‘train.txt.1’\n",
            "\n",
            "\rtrain.txt.1           0%[                    ]       0  --.-KB/s               \rtrain.txt.1         100%[===================>]   1.36M  --.-KB/s    in 0.08s   \n",
            "\n",
            "2020-02-05 22:52:11 (17.8 MB/s) - ‘train.txt.1’ saved [1427184/1427184]\n",
            "\n",
            "--2020-02-05 22:52:13--  https://raw.githubusercontent.com/dbamman/nlp20/master/HW_1/dev.txt\n",
            "Resolving raw.githubusercontent.com (raw.githubusercontent.com)... 151.101.0.133, 151.101.64.133, 151.101.128.133, ...\n",
            "Connecting to raw.githubusercontent.com (raw.githubusercontent.com)|151.101.0.133|:443... connected.\n",
            "HTTP request sent, awaiting response... 200 OK\n",
            "Length: 1474560 (1.4M) [text/plain]\n",
            "Saving to: ‘dev.txt.1’\n",
            "\n",
            "dev.txt.1           100%[===================>]   1.41M  --.-KB/s    in 0.07s   \n",
            "\n",
            "2020-02-05 22:52:13 (19.2 MB/s) - ‘dev.txt.1’ saved [1474560/1474560]\n",
            "\n",
            "--2020-02-05 22:52:14--  https://raw.githubusercontent.com/dbamman/nlp20/master/HW_1/test.txt.zip\n",
            "Resolving raw.githubusercontent.com (raw.githubusercontent.com)... 151.101.0.133, 151.101.64.133, 151.101.128.133, ...\n",
            "Connecting to raw.githubusercontent.com (raw.githubusercontent.com)|151.101.0.133|:443... connected.\n",
            "HTTP request sent, awaiting response... 200 OK\n",
            "Length: 13100860 (12M) [application/zip]\n",
            "Saving to: ‘test.txt.zip.1’\n",
            "\n",
            "test.txt.zip.1      100%[===================>]  12.49M  --.-KB/s    in 0.06s   \n",
            "\n",
            "2020-02-05 22:52:15 (225 MB/s) - ‘test.txt.zip.1’ saved [13100860/13100860]\n",
            "\n",
            "Archive:  test.txt.zip\n",
            "replace test.txt? [y]es, [n]o, [A]ll, [N]one, [r]ename: y\n",
            "  inflating: test.txt                \n",
            "replace __MACOSX/._test.txt? [y]es, [n]o, [A]ll, [N]one, [r]ename: y\n",
            "  inflating: __MACOSX/._test.txt     \n"
          ],
          "name": "stdout"
        }
      ]
    },
    {
      "cell_type": "code",
      "metadata": {
        "id": "QgwgKmYWLlc8",
        "colab_type": "code",
        "outputId": "2ce2ef2d-b9d9-404d-ed6c-b30e40aade52",
        "colab": {
          "base_uri": "https://localhost:8080/",
          "height": 71
        }
      },
      "source": [
        "#This cell trains two models: one on the dumb features and one on your fancy\n",
        "#features.  It will store the test set predictions in a csv.\n",
        "#The weights will be stored in a text file. \n",
        "#To access the files, click on the folder icon in the left sidebar.\n",
        "#You can preview the files in Colab by double clicking or download the files by \n",
        "#right clicking and selecting Download.\n",
        "if __name__ == \"__main__\":\n",
        "  trainingFile = \"./train.txt\"\n",
        "  evaluationFile = \"./dev.txt\"\n",
        "  testFile = \"./test.txt\"\n",
        "\n",
        "  for feature_method in [dumb_featurize, fancy_featurize]:\n",
        "    sentiment_classifier = SentimentClassifier(feature_method)\n",
        "    trainX, trainY = sentiment_classifier.process(trainingFile, training=True)\n",
        "    devX, devY = sentiment_classifier.process(evaluationFile, training=False)\n",
        "    testX, idsX = sentiment_classifier.load_test(testFile)\n",
        "    sentiment_classifier.evaluate(trainX, trainY, devX, devY)\n",
        "    sentiment_classifier.printWeights()\n",
        "    sentiment_classifier.predict(testX, idsX)\n"
      ],
      "execution_count": 0,
      "outputs": [
        {
          "output_type": "stream",
          "text": [
            "Method: dumb_featurize, Features: 2, Train accuracy: 0.604, Dev accuracy: 0.611\n",
            "Method: fancy_featurize, Features: 3902, Train accuracy: 0.998, Dev accuracy: 0.822\n"
          ],
          "name": "stdout"
        }
      ]
    }
  ]
}